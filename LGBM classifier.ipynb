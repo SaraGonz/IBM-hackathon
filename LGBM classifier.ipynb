{
 "cells": [
  {
   "cell_type": "code",
   "execution_count": 35,
   "metadata": {},
   "outputs": [],
   "source": [
    "import types\n",
    "import pandas as pd\n",
    "import lightgbm as lgb\n",
    "import pandas as pd\n",
    "import numpy as np\n",
    "from sklearn.metrics import mean_squared_error"
   ]
  },
  {
   "cell_type": "code",
   "execution_count": 36,
   "metadata": {},
   "outputs": [
    {
     "data": {
      "text/plain": [
       "106217"
      ]
     },
     "execution_count": 36,
     "metadata": {},
     "output_type": "execute_result"
    }
   ],
   "source": [
    "people_data = pd.read_csv(r'C:\\Users\\sargonza\\Desktop\\I&D\\DataScience\\hackathon IBM\\SALUD\\Last UPDATE\\people.csv')\n",
    "people_data.head()\n",
    "len(people_data)"
   ]
  },
  {
   "cell_type": "code",
   "execution_count": 37,
   "metadata": {},
   "outputs": [
    {
     "data": {
      "text/plain": [
       "['age',\n",
       " 'bmi',\n",
       " 'cardio',\n",
       " 'gender',\n",
       " 'gluc',\n",
       " 'heart_disease',\n",
       " 'hypertension',\n",
       " 'smoke']"
      ]
     },
     "execution_count": 37,
     "metadata": {},
     "output_type": "execute_result"
    }
   ],
   "source": [
    "features = people_data.columns.tolist()\n",
    "#cols = cols[-1:] + cols[:-1]\n",
    "\n",
    "features"
   ]
  },
  {
   "cell_type": "code",
   "execution_count": 38,
   "metadata": {},
   "outputs": [],
   "source": [
    "features.remove('cardio')"
   ]
  },
  {
   "cell_type": "code",
   "execution_count": 39,
   "metadata": {},
   "outputs": [
    {
     "data": {
      "text/html": [
       "<div>\n",
       "<style scoped>\n",
       "    .dataframe tbody tr th:only-of-type {\n",
       "        vertical-align: middle;\n",
       "    }\n",
       "\n",
       "    .dataframe tbody tr th {\n",
       "        vertical-align: top;\n",
       "    }\n",
       "\n",
       "    .dataframe thead th {\n",
       "        text-align: right;\n",
       "    }\n",
       "</style>\n",
       "<table border=\"1\" class=\"dataframe\">\n",
       "  <thead>\n",
       "    <tr style=\"text-align: right;\">\n",
       "      <th></th>\n",
       "      <th>age</th>\n",
       "      <th>bmi</th>\n",
       "      <th>gender</th>\n",
       "      <th>gluc</th>\n",
       "      <th>heart_disease</th>\n",
       "      <th>hypertension</th>\n",
       "      <th>smoke</th>\n",
       "    </tr>\n",
       "  </thead>\n",
       "  <tbody>\n",
       "    <tr>\n",
       "      <th>0</th>\n",
       "      <td>1</td>\n",
       "      <td>1</td>\n",
       "      <td>0</td>\n",
       "      <td>0</td>\n",
       "      <td>0</td>\n",
       "      <td>0</td>\n",
       "      <td>0</td>\n",
       "    </tr>\n",
       "    <tr>\n",
       "      <th>1</th>\n",
       "      <td>1</td>\n",
       "      <td>3</td>\n",
       "      <td>1</td>\n",
       "      <td>0</td>\n",
       "      <td>1</td>\n",
       "      <td>1</td>\n",
       "      <td>0</td>\n",
       "    </tr>\n",
       "    <tr>\n",
       "      <th>2</th>\n",
       "      <td>1</td>\n",
       "      <td>1</td>\n",
       "      <td>1</td>\n",
       "      <td>0</td>\n",
       "      <td>0</td>\n",
       "      <td>0</td>\n",
       "      <td>0</td>\n",
       "    </tr>\n",
       "    <tr>\n",
       "      <th>3</th>\n",
       "      <td>0</td>\n",
       "      <td>2</td>\n",
       "      <td>0</td>\n",
       "      <td>0</td>\n",
       "      <td>0</td>\n",
       "      <td>1</td>\n",
       "      <td>0</td>\n",
       "    </tr>\n",
       "    <tr>\n",
       "      <th>4</th>\n",
       "      <td>0</td>\n",
       "      <td>1</td>\n",
       "      <td>1</td>\n",
       "      <td>0</td>\n",
       "      <td>0</td>\n",
       "      <td>0</td>\n",
       "      <td>0</td>\n",
       "    </tr>\n",
       "  </tbody>\n",
       "</table>\n",
       "</div>"
      ],
      "text/plain": [
       "   age  bmi  gender  gluc  heart_disease  hypertension  smoke\n",
       "0    1    1       0     0              0             0      0\n",
       "1    1    3       1     0              1             1      0\n",
       "2    1    1       1     0              0             0      0\n",
       "3    0    2       0     0              0             1      0\n",
       "4    0    1       1     0              0             0      0"
      ]
     },
     "execution_count": 39,
     "metadata": {},
     "output_type": "execute_result"
    }
   ],
   "source": [
    "X= people_data[features].copy()\n",
    "len(X)\n",
    "X.head()"
   ]
  },
  {
   "cell_type": "code",
   "execution_count": 40,
   "metadata": {},
   "outputs": [
    {
     "data": {
      "text/plain": [
       "0    0\n",
       "1    1\n",
       "2    1\n",
       "3    1\n",
       "4    0\n",
       "Name: cardio, dtype: int64"
      ]
     },
     "execution_count": 40,
     "metadata": {},
     "output_type": "execute_result"
    }
   ],
   "source": [
    "y= people_data[\"cardio\"].copy()\n",
    "y.head()"
   ]
  },
  {
   "cell_type": "code",
   "execution_count": 24,
   "metadata": {},
   "outputs": [
    {
     "data": {
      "text/html": [
       "<div>\n",
       "<style scoped>\n",
       "    .dataframe tbody tr th:only-of-type {\n",
       "        vertical-align: middle;\n",
       "    }\n",
       "\n",
       "    .dataframe tbody tr th {\n",
       "        vertical-align: top;\n",
       "    }\n",
       "\n",
       "    .dataframe thead th {\n",
       "        text-align: right;\n",
       "    }\n",
       "</style>\n",
       "<table border=\"1\" class=\"dataframe\">\n",
       "  <thead>\n",
       "    <tr style=\"text-align: right;\">\n",
       "      <th></th>\n",
       "      <th>age</th>\n",
       "      <th>bmi</th>\n",
       "      <th>cardio</th>\n",
       "      <th>gender</th>\n",
       "      <th>gluc</th>\n",
       "      <th>heart_disease</th>\n",
       "      <th>hypertension</th>\n",
       "      <th>smoke</th>\n",
       "    </tr>\n",
       "  </thead>\n",
       "  <tbody>\n",
       "    <tr>\n",
       "      <th>27246</th>\n",
       "      <td>1</td>\n",
       "      <td>2</td>\n",
       "      <td>0</td>\n",
       "      <td>1</td>\n",
       "      <td>0</td>\n",
       "      <td>0</td>\n",
       "      <td>0</td>\n",
       "      <td>0</td>\n",
       "    </tr>\n",
       "    <tr>\n",
       "      <th>47717</th>\n",
       "      <td>1</td>\n",
       "      <td>2</td>\n",
       "      <td>1</td>\n",
       "      <td>1</td>\n",
       "      <td>0</td>\n",
       "      <td>1</td>\n",
       "      <td>1</td>\n",
       "      <td>0</td>\n",
       "    </tr>\n",
       "    <tr>\n",
       "      <th>3218</th>\n",
       "      <td>1</td>\n",
       "      <td>1</td>\n",
       "      <td>0</td>\n",
       "      <td>1</td>\n",
       "      <td>0</td>\n",
       "      <td>0</td>\n",
       "      <td>0</td>\n",
       "      <td>0</td>\n",
       "    </tr>\n",
       "    <tr>\n",
       "      <th>30395</th>\n",
       "      <td>1</td>\n",
       "      <td>2</td>\n",
       "      <td>1</td>\n",
       "      <td>1</td>\n",
       "      <td>0</td>\n",
       "      <td>0</td>\n",
       "      <td>0</td>\n",
       "      <td>0</td>\n",
       "    </tr>\n",
       "    <tr>\n",
       "      <th>82888</th>\n",
       "      <td>1</td>\n",
       "      <td>2</td>\n",
       "      <td>0</td>\n",
       "      <td>1</td>\n",
       "      <td>0</td>\n",
       "      <td>0</td>\n",
       "      <td>0</td>\n",
       "      <td>1</td>\n",
       "    </tr>\n",
       "  </tbody>\n",
       "</table>\n",
       "</div>"
      ],
      "text/plain": [
       "       age  bmi  cardio  gender  gluc  heart_disease  hypertension  smoke\n",
       "27246    1    2       0       1     0              0             0      0\n",
       "47717    1    2       1       1     0              1             1      0\n",
       "3218     1    1       0       1     0              0             0      0\n",
       "30395    1    2       1       1     0              0             0      0\n",
       "82888    1    2       0       1     0              0             0      1"
      ]
     },
     "execution_count": 24,
     "metadata": {},
     "output_type": "execute_result"
    }
   ],
   "source": [
    "#train_people=people_data.take(np.random.permutation(len(people_data))[:74352])\n",
    "#train_people.head()"
   ]
  },
  {
   "cell_type": "code",
   "execution_count": 25,
   "metadata": {},
   "outputs": [],
   "source": [
    "#train_people.to_csv(r'C:\\Users\\sargonza\\Desktop\\I&D\\DataScience\\hackathon IBM\\SALUD\\Last UPDATE\\train_people.csv')"
   ]
  },
  {
   "cell_type": "code",
   "execution_count": 18,
   "metadata": {},
   "outputs": [],
   "source": []
  },
  {
   "cell_type": "code",
   "execution_count": 27,
   "metadata": {},
   "outputs": [
    {
     "name": "stderr",
     "output_type": "stream",
     "text": [
      "C:\\Users\\sargonza\\AppData\\Local\\Continuum\\anaconda3\\lib\\site-packages\\pandas\\core\\frame.py:3940: SettingWithCopyWarning: \n",
      "A value is trying to be set on a copy of a slice from a DataFrame\n",
      "\n",
      "See the caveats in the documentation: http://pandas.pydata.org/pandas-docs/stable/indexing.html#indexing-view-versus-copy\n",
      "  errors=errors)\n"
     ]
    }
   ],
   "source": [
    "# get the labels\n",
    "#y = train_people.cardio.values\n",
    "#train_people.drop(['cardio'], inplace=True, axis=1)\n",
    "\n",
    "#x = train_people.values"
   ]
  },
  {
   "cell_type": "code",
   "execution_count": 63,
   "metadata": {},
   "outputs": [],
   "source": [
    "from sklearn.model_selection import train_test_split\n",
    "X_train,X_test,y_train,y_test = train_test_split(X,y,test_size=0.3)"
   ]
  },
  {
   "cell_type": "code",
   "execution_count": 64,
   "metadata": {},
   "outputs": [],
   "source": [
    "import lightgbm"
   ]
  },
  {
   "cell_type": "code",
   "execution_count": 65,
   "metadata": {},
   "outputs": [],
   "source": [
    "# Create the LightGBM data containers\n",
    "#\n",
    "categorical_features = [c for c, col in enumerate(X.columns) if 'cat' in col]\n",
    "train_data = lightgbm.Dataset(X_train, label=y_train, categorical_feature=categorical_features)\n",
    "test_data = lightgbm.Dataset(X_test, label=y_test)\n",
    "\n"
   ]
  },
  {
   "cell_type": "code",
   "execution_count": 66,
   "metadata": {},
   "outputs": [
    {
     "name": "stdout",
     "output_type": "stream",
     "text": [
      "[1]\tvalid_0's auc: 0.809147\n",
      "Training until validation scores don't improve for 100 rounds\n",
      "[2]\tvalid_0's auc: 0.805914\n",
      "[3]\tvalid_0's auc: 0.80384\n",
      "[4]\tvalid_0's auc: 0.802639\n",
      "[5]\tvalid_0's auc: 0.796349\n",
      "[6]\tvalid_0's auc: 0.806974\n",
      "[7]\tvalid_0's auc: 0.811294\n",
      "[8]\tvalid_0's auc: 0.80973\n",
      "[9]\tvalid_0's auc: 0.812374\n",
      "[10]\tvalid_0's auc: 0.814246\n",
      "[11]\tvalid_0's auc: 0.815488\n",
      "[12]\tvalid_0's auc: 0.815829\n",
      "[13]\tvalid_0's auc: 0.816314\n",
      "[14]\tvalid_0's auc: 0.817101\n",
      "[15]\tvalid_0's auc: 0.817102\n",
      "[16]\tvalid_0's auc: 0.816627\n",
      "[17]\tvalid_0's auc: 0.816527\n",
      "[18]\tvalid_0's auc: 0.816984\n",
      "[19]\tvalid_0's auc: 0.816683\n",
      "[20]\tvalid_0's auc: 0.816822\n",
      "[21]\tvalid_0's auc: 0.816733\n",
      "[22]\tvalid_0's auc: 0.816712\n",
      "[23]\tvalid_0's auc: 0.816744\n",
      "[24]\tvalid_0's auc: 0.816659\n",
      "[25]\tvalid_0's auc: 0.816797\n",
      "[26]\tvalid_0's auc: 0.816703\n",
      "[27]\tvalid_0's auc: 0.816711\n",
      "[28]\tvalid_0's auc: 0.816546\n",
      "[29]\tvalid_0's auc: 0.816652\n",
      "[30]\tvalid_0's auc: 0.817125\n",
      "[31]\tvalid_0's auc: 0.816854\n",
      "[32]\tvalid_0's auc: 0.816788\n",
      "[33]\tvalid_0's auc: 0.817182\n",
      "[34]\tvalid_0's auc: 0.817481\n",
      "[35]\tvalid_0's auc: 0.817187\n",
      "[36]\tvalid_0's auc: 0.8173\n",
      "[37]\tvalid_0's auc: 0.8172\n",
      "[38]\tvalid_0's auc: 0.817505\n",
      "[39]\tvalid_0's auc: 0.817616\n",
      "[40]\tvalid_0's auc: 0.817665\n",
      "[41]\tvalid_0's auc: 0.817798\n",
      "[42]\tvalid_0's auc: 0.81784\n",
      "[43]\tvalid_0's auc: 0.81771\n",
      "[44]\tvalid_0's auc: 0.817839\n",
      "[45]\tvalid_0's auc: 0.81794\n",
      "[46]\tvalid_0's auc: 0.817998\n",
      "[47]\tvalid_0's auc: 0.81824\n",
      "[48]\tvalid_0's auc: 0.818056\n",
      "[49]\tvalid_0's auc: 0.818047\n",
      "[50]\tvalid_0's auc: 0.818059\n",
      "[51]\tvalid_0's auc: 0.818008\n",
      "[52]\tvalid_0's auc: 0.818036\n",
      "[53]\tvalid_0's auc: 0.81794\n",
      "[54]\tvalid_0's auc: 0.818119\n",
      "[55]\tvalid_0's auc: 0.818278\n",
      "[56]\tvalid_0's auc: 0.818278\n",
      "[57]\tvalid_0's auc: 0.818241\n",
      "[58]\tvalid_0's auc: 0.818241\n",
      "[59]\tvalid_0's auc: 0.818255\n",
      "[60]\tvalid_0's auc: 0.818408\n",
      "[61]\tvalid_0's auc: 0.818407\n",
      "[62]\tvalid_0's auc: 0.818406\n",
      "[63]\tvalid_0's auc: 0.818449\n",
      "[64]\tvalid_0's auc: 0.818525\n",
      "[65]\tvalid_0's auc: 0.818618\n",
      "[66]\tvalid_0's auc: 0.818629\n",
      "[67]\tvalid_0's auc: 0.818811\n",
      "[68]\tvalid_0's auc: 0.818984\n",
      "[69]\tvalid_0's auc: 0.819009\n",
      "[70]\tvalid_0's auc: 0.819027\n",
      "[71]\tvalid_0's auc: 0.818912\n",
      "[72]\tvalid_0's auc: 0.818964\n",
      "[73]\tvalid_0's auc: 0.818985\n",
      "[74]\tvalid_0's auc: 0.818974\n",
      "[75]\tvalid_0's auc: 0.819071\n",
      "[76]\tvalid_0's auc: 0.819074\n",
      "[77]\tvalid_0's auc: 0.819199\n",
      "[78]\tvalid_0's auc: 0.819209\n",
      "[79]\tvalid_0's auc: 0.819255\n",
      "[80]\tvalid_0's auc: 0.819286\n",
      "[81]\tvalid_0's auc: 0.819345\n",
      "[82]\tvalid_0's auc: 0.819325\n",
      "[83]\tvalid_0's auc: 0.819401\n",
      "[84]\tvalid_0's auc: 0.819398\n",
      "[85]\tvalid_0's auc: 0.81941\n",
      "[86]\tvalid_0's auc: 0.819451\n",
      "[87]\tvalid_0's auc: 0.819457\n",
      "[88]\tvalid_0's auc: 0.819439\n",
      "[89]\tvalid_0's auc: 0.819448\n",
      "[90]\tvalid_0's auc: 0.81944\n",
      "[91]\tvalid_0's auc: 0.819432\n",
      "[92]\tvalid_0's auc: 0.819462\n",
      "[93]\tvalid_0's auc: 0.819495\n",
      "[94]\tvalid_0's auc: 0.819515\n",
      "[95]\tvalid_0's auc: 0.819532\n",
      "[96]\tvalid_0's auc: 0.819549\n",
      "[97]\tvalid_0's auc: 0.819609\n",
      "[98]\tvalid_0's auc: 0.819598\n",
      "[99]\tvalid_0's auc: 0.819598\n",
      "[100]\tvalid_0's auc: 0.819649\n",
      "[101]\tvalid_0's auc: 0.819688\n",
      "[102]\tvalid_0's auc: 0.819699\n",
      "[103]\tvalid_0's auc: 0.819696\n",
      "[104]\tvalid_0's auc: 0.819801\n",
      "[105]\tvalid_0's auc: 0.819814\n",
      "[106]\tvalid_0's auc: 0.819844\n",
      "[107]\tvalid_0's auc: 0.819863\n",
      "[108]\tvalid_0's auc: 0.819845\n",
      "[109]\tvalid_0's auc: 0.81984\n",
      "[110]\tvalid_0's auc: 0.81986\n",
      "[111]\tvalid_0's auc: 0.819861\n",
      "[112]\tvalid_0's auc: 0.819858\n",
      "[113]\tvalid_0's auc: 0.819851\n",
      "[114]\tvalid_0's auc: 0.819809\n",
      "[115]\tvalid_0's auc: 0.819866\n",
      "[116]\tvalid_0's auc: 0.819883\n",
      "[117]\tvalid_0's auc: 0.819848\n",
      "[118]\tvalid_0's auc: 0.819868\n",
      "[119]\tvalid_0's auc: 0.819859\n",
      "[120]\tvalid_0's auc: 0.819888\n",
      "[121]\tvalid_0's auc: 0.819889\n",
      "[122]\tvalid_0's auc: 0.819897\n",
      "[123]\tvalid_0's auc: 0.819917\n",
      "[124]\tvalid_0's auc: 0.819961\n",
      "[125]\tvalid_0's auc: 0.819972\n",
      "[126]\tvalid_0's auc: 0.819972\n",
      "[127]\tvalid_0's auc: 0.819984\n",
      "[128]\tvalid_0's auc: 0.819996\n",
      "[129]\tvalid_0's auc: 0.819995\n",
      "[130]\tvalid_0's auc: 0.819992\n",
      "[131]\tvalid_0's auc: 0.819996\n",
      "[132]\tvalid_0's auc: 0.820034\n",
      "[133]\tvalid_0's auc: 0.82002\n",
      "[134]\tvalid_0's auc: 0.820005\n",
      "[135]\tvalid_0's auc: 0.820056\n",
      "[136]\tvalid_0's auc: 0.820066\n",
      "[137]\tvalid_0's auc: 0.820055\n",
      "[138]\tvalid_0's auc: 0.820051\n",
      "[139]\tvalid_0's auc: 0.820058\n",
      "[140]\tvalid_0's auc: 0.820063\n",
      "[141]\tvalid_0's auc: 0.820064\n",
      "[142]\tvalid_0's auc: 0.820044\n",
      "[143]\tvalid_0's auc: 0.819996\n",
      "[144]\tvalid_0's auc: 0.82\n",
      "[145]\tvalid_0's auc: 0.819947\n",
      "[146]\tvalid_0's auc: 0.819972\n",
      "[147]\tvalid_0's auc: 0.820001\n",
      "[148]\tvalid_0's auc: 0.820029\n",
      "[149]\tvalid_0's auc: 0.820028\n",
      "[150]\tvalid_0's auc: 0.820035\n",
      "[151]\tvalid_0's auc: 0.820053\n",
      "[152]\tvalid_0's auc: 0.820036\n",
      "[153]\tvalid_0's auc: 0.820011\n",
      "[154]\tvalid_0's auc: 0.820024\n",
      "[155]\tvalid_0's auc: 0.82002\n",
      "[156]\tvalid_0's auc: 0.820014\n",
      "[157]\tvalid_0's auc: 0.82\n",
      "[158]\tvalid_0's auc: 0.820006\n",
      "[159]\tvalid_0's auc: 0.820013\n",
      "[160]\tvalid_0's auc: 0.820066\n",
      "[161]\tvalid_0's auc: 0.820066\n",
      "[162]\tvalid_0's auc: 0.820092\n",
      "[163]\tvalid_0's auc: 0.820095\n",
      "[164]\tvalid_0's auc: 0.820094\n",
      "[165]\tvalid_0's auc: 0.820071\n",
      "[166]\tvalid_0's auc: 0.820101\n",
      "[167]\tvalid_0's auc: 0.8201\n",
      "[168]\tvalid_0's auc: 0.820099\n",
      "[169]\tvalid_0's auc: 0.820151\n",
      "[170]\tvalid_0's auc: 0.820155\n",
      "[171]\tvalid_0's auc: 0.820165\n",
      "[172]\tvalid_0's auc: 0.820154\n",
      "[173]\tvalid_0's auc: 0.82014\n",
      "[174]\tvalid_0's auc: 0.820139\n",
      "[175]\tvalid_0's auc: 0.820148\n",
      "[176]\tvalid_0's auc: 0.82015\n",
      "[177]\tvalid_0's auc: 0.820157\n",
      "[178]\tvalid_0's auc: 0.820124\n",
      "[179]\tvalid_0's auc: 0.820138\n",
      "[180]\tvalid_0's auc: 0.82013\n",
      "[181]\tvalid_0's auc: 0.820148\n",
      "[182]\tvalid_0's auc: 0.820145\n",
      "[183]\tvalid_0's auc: 0.820176\n",
      "[184]\tvalid_0's auc: 0.820187\n",
      "[185]\tvalid_0's auc: 0.820184\n",
      "[186]\tvalid_0's auc: 0.820177\n",
      "[187]\tvalid_0's auc: 0.820193\n",
      "[188]\tvalid_0's auc: 0.820196\n",
      "[189]\tvalid_0's auc: 0.820202\n",
      "[190]\tvalid_0's auc: 0.820199\n",
      "[191]\tvalid_0's auc: 0.82018\n",
      "[192]\tvalid_0's auc: 0.820173\n",
      "[193]\tvalid_0's auc: 0.82018\n",
      "[194]\tvalid_0's auc: 0.820167\n",
      "[195]\tvalid_0's auc: 0.820153\n",
      "[196]\tvalid_0's auc: 0.82016\n",
      "[197]\tvalid_0's auc: 0.820152\n",
      "[198]\tvalid_0's auc: 0.820099\n",
      "[199]\tvalid_0's auc: 0.820101\n",
      "[200]\tvalid_0's auc: 0.820105\n",
      "[201]\tvalid_0's auc: 0.820145\n",
      "[202]\tvalid_0's auc: 0.820151\n",
      "[203]\tvalid_0's auc: 0.820145\n",
      "[204]\tvalid_0's auc: 0.82014\n",
      "[205]\tvalid_0's auc: 0.820137\n",
      "[206]\tvalid_0's auc: 0.820139\n",
      "[207]\tvalid_0's auc: 0.820154\n",
      "[208]\tvalid_0's auc: 0.820147\n",
      "[209]\tvalid_0's auc: 0.820143\n",
      "[210]\tvalid_0's auc: 0.820141\n",
      "[211]\tvalid_0's auc: 0.820139\n",
      "[212]\tvalid_0's auc: 0.820121\n",
      "[213]\tvalid_0's auc: 0.820067\n",
      "[214]\tvalid_0's auc: 0.820108\n",
      "[215]\tvalid_0's auc: 0.820083\n",
      "[216]\tvalid_0's auc: 0.820127\n",
      "[217]\tvalid_0's auc: 0.820088\n",
      "[218]\tvalid_0's auc: 0.820068\n",
      "[219]\tvalid_0's auc: 0.820076\n",
      "[220]\tvalid_0's auc: 0.82008\n",
      "[221]\tvalid_0's auc: 0.820116\n",
      "[222]\tvalid_0's auc: 0.820105\n",
      "[223]\tvalid_0's auc: 0.820111\n",
      "[224]\tvalid_0's auc: 0.82012\n",
      "[225]\tvalid_0's auc: 0.820103\n",
      "[226]\tvalid_0's auc: 0.820127\n",
      "[227]\tvalid_0's auc: 0.820124\n",
      "[228]\tvalid_0's auc: 0.820121\n",
      "[229]\tvalid_0's auc: 0.820104\n",
      "[230]\tvalid_0's auc: 0.820118\n",
      "[231]\tvalid_0's auc: 0.82011\n",
      "[232]\tvalid_0's auc: 0.820112\n",
      "[233]\tvalid_0's auc: 0.820124\n",
      "[234]\tvalid_0's auc: 0.820124\n",
      "[235]\tvalid_0's auc: 0.820133\n",
      "[236]\tvalid_0's auc: 0.820132\n",
      "[237]\tvalid_0's auc: 0.820145\n",
      "[238]\tvalid_0's auc: 0.82014\n",
      "[239]\tvalid_0's auc: 0.820162\n",
      "[240]\tvalid_0's auc: 0.820165\n",
      "[241]\tvalid_0's auc: 0.820165\n",
      "[242]\tvalid_0's auc: 0.820172\n",
      "[243]\tvalid_0's auc: 0.820141\n",
      "[244]\tvalid_0's auc: 0.820168\n",
      "[245]\tvalid_0's auc: 0.820176\n",
      "[246]\tvalid_0's auc: 0.820163\n",
      "[247]\tvalid_0's auc: 0.820195\n",
      "[248]\tvalid_0's auc: 0.820204\n",
      "[249]\tvalid_0's auc: 0.820199\n",
      "[250]\tvalid_0's auc: 0.820134\n",
      "[251]\tvalid_0's auc: 0.820164\n",
      "[252]\tvalid_0's auc: 0.820195\n",
      "[253]\tvalid_0's auc: 0.820194\n",
      "[254]\tvalid_0's auc: 0.820211\n",
      "[255]\tvalid_0's auc: 0.820199\n",
      "[256]\tvalid_0's auc: 0.820187\n",
      "[257]\tvalid_0's auc: 0.820185\n",
      "[258]\tvalid_0's auc: 0.820201\n",
      "[259]\tvalid_0's auc: 0.820176\n",
      "[260]\tvalid_0's auc: 0.820179\n",
      "[261]\tvalid_0's auc: 0.820106\n",
      "[262]\tvalid_0's auc: 0.820103\n",
      "[263]\tvalid_0's auc: 0.820099\n",
      "[264]\tvalid_0's auc: 0.820096\n",
      "[265]\tvalid_0's auc: 0.820152\n",
      "[266]\tvalid_0's auc: 0.820151\n",
      "[267]\tvalid_0's auc: 0.82015\n",
      "[268]\tvalid_0's auc: 0.820087\n",
      "[269]\tvalid_0's auc: 0.820145\n",
      "[270]\tvalid_0's auc: 0.820143\n",
      "[271]\tvalid_0's auc: 0.820146\n",
      "[272]\tvalid_0's auc: 0.820146\n",
      "[273]\tvalid_0's auc: 0.820131\n",
      "[274]\tvalid_0's auc: 0.820126\n",
      "[275]\tvalid_0's auc: 0.820124\n",
      "[276]\tvalid_0's auc: 0.820141\n",
      "[277]\tvalid_0's auc: 0.820136\n",
      "[278]\tvalid_0's auc: 0.820152\n",
      "[279]\tvalid_0's auc: 0.820132\n",
      "[280]\tvalid_0's auc: 0.820137\n",
      "[281]\tvalid_0's auc: 0.820197\n",
      "[282]\tvalid_0's auc: 0.820162\n"
     ]
    },
    {
     "name": "stdout",
     "output_type": "stream",
     "text": [
      "[283]\tvalid_0's auc: 0.820166\n",
      "[284]\tvalid_0's auc: 0.820149\n",
      "[285]\tvalid_0's auc: 0.820148\n",
      "[286]\tvalid_0's auc: 0.820152\n",
      "[287]\tvalid_0's auc: 0.820153\n",
      "[288]\tvalid_0's auc: 0.820185\n",
      "[289]\tvalid_0's auc: 0.820192\n",
      "[290]\tvalid_0's auc: 0.820185\n",
      "[291]\tvalid_0's auc: 0.820177\n",
      "[292]\tvalid_0's auc: 0.820173\n",
      "[293]\tvalid_0's auc: 0.820166\n",
      "[294]\tvalid_0's auc: 0.820203\n",
      "[295]\tvalid_0's auc: 0.820198\n",
      "[296]\tvalid_0's auc: 0.820201\n",
      "[297]\tvalid_0's auc: 0.820203\n",
      "[298]\tvalid_0's auc: 0.820205\n",
      "[299]\tvalid_0's auc: 0.820185\n",
      "[300]\tvalid_0's auc: 0.820197\n",
      "[301]\tvalid_0's auc: 0.820179\n",
      "[302]\tvalid_0's auc: 0.820155\n",
      "[303]\tvalid_0's auc: 0.820198\n",
      "[304]\tvalid_0's auc: 0.820187\n",
      "[305]\tvalid_0's auc: 0.820193\n",
      "[306]\tvalid_0's auc: 0.820171\n",
      "[307]\tvalid_0's auc: 0.820141\n",
      "[308]\tvalid_0's auc: 0.820172\n",
      "[309]\tvalid_0's auc: 0.82013\n",
      "[310]\tvalid_0's auc: 0.82014\n",
      "[311]\tvalid_0's auc: 0.820144\n",
      "[312]\tvalid_0's auc: 0.820109\n",
      "[313]\tvalid_0's auc: 0.820102\n",
      "[314]\tvalid_0's auc: 0.820111\n",
      "[315]\tvalid_0's auc: 0.820114\n",
      "[316]\tvalid_0's auc: 0.820124\n",
      "[317]\tvalid_0's auc: 0.820132\n",
      "[318]\tvalid_0's auc: 0.820183\n",
      "[319]\tvalid_0's auc: 0.820177\n",
      "[320]\tvalid_0's auc: 0.820172\n",
      "[321]\tvalid_0's auc: 0.820151\n",
      "[322]\tvalid_0's auc: 0.820148\n",
      "[323]\tvalid_0's auc: 0.82015\n",
      "[324]\tvalid_0's auc: 0.82015\n",
      "[325]\tvalid_0's auc: 0.820128\n",
      "[326]\tvalid_0's auc: 0.82007\n",
      "[327]\tvalid_0's auc: 0.82006\n",
      "[328]\tvalid_0's auc: 0.820067\n",
      "[329]\tvalid_0's auc: 0.82006\n",
      "[330]\tvalid_0's auc: 0.820053\n",
      "[331]\tvalid_0's auc: 0.820059\n",
      "[332]\tvalid_0's auc: 0.820045\n",
      "[333]\tvalid_0's auc: 0.820042\n",
      "[334]\tvalid_0's auc: 0.820025\n",
      "[335]\tvalid_0's auc: 0.820013\n",
      "[336]\tvalid_0's auc: 0.820014\n",
      "[337]\tvalid_0's auc: 0.819986\n",
      "[338]\tvalid_0's auc: 0.819991\n",
      "[339]\tvalid_0's auc: 0.819988\n",
      "[340]\tvalid_0's auc: 0.81999\n",
      "[341]\tvalid_0's auc: 0.820021\n",
      "[342]\tvalid_0's auc: 0.820024\n",
      "[343]\tvalid_0's auc: 0.820044\n",
      "[344]\tvalid_0's auc: 0.820077\n",
      "[345]\tvalid_0's auc: 0.820026\n",
      "[346]\tvalid_0's auc: 0.820123\n",
      "[347]\tvalid_0's auc: 0.820066\n",
      "[348]\tvalid_0's auc: 0.820066\n",
      "[349]\tvalid_0's auc: 0.820114\n",
      "[350]\tvalid_0's auc: 0.820057\n",
      "[351]\tvalid_0's auc: 0.820137\n",
      "[352]\tvalid_0's auc: 0.82006\n",
      "[353]\tvalid_0's auc: 0.820089\n",
      "[354]\tvalid_0's auc: 0.820119\n",
      "Early stopping, best iteration is:\n",
      "[254]\tvalid_0's auc: 0.820211\n"
     ]
    }
   ],
   "source": [
    "parameters = {\n",
    "    'application': 'binary',\n",
    "    'objective': 'binary',\n",
    "    'metric': 'auc',\n",
    "    'is_unbalance': 'true',\n",
    "    'boosting': 'gbdt',\n",
    "    'num_leaves': 30,\n",
    "    'feature_fraction': 0.5,\n",
    "    'bagging_fraction': 0.5,\n",
    "    'bagging_freq': 20,\n",
    "    'learning_rate': 0.05,\n",
    "    'verbose': 0\n",
    "}\n",
    "\n",
    "model = lightgbm.train(parameters,\n",
    "                       train_data,\n",
    "                       valid_sets=test_data,\n",
    "                       num_boost_round=5000,\n",
    "                       early_stopping_rounds=100)\n",
    "#"
   ]
  },
  {
   "cell_type": "code",
   "execution_count": null,
   "metadata": {},
   "outputs": [],
   "source": [
    "#Con estos parámetros, se obtiene un acierto de 0.822394"
   ]
  },
  {
   "cell_type": "code",
   "execution_count": 72,
   "metadata": {},
   "outputs": [],
   "source": [
    "y_pred = model.predict(X_test)\n",
    "predictions = [round(value) for value in y_pred]"
   ]
  },
  {
   "cell_type": "code",
   "execution_count": null,
   "metadata": {},
   "outputs": [],
   "source": []
  },
  {
   "cell_type": "code",
   "execution_count": 73,
   "metadata": {},
   "outputs": [
    {
     "ename": "NameError",
     "evalue": "name 'score' is not defined",
     "output_type": "error",
     "traceback": [
      "\u001b[1;31m---------------------------------------------------------------------------\u001b[0m",
      "\u001b[1;31mNameError\u001b[0m                                 Traceback (most recent call last)",
      "\u001b[1;32m<ipython-input-73-26ff96fdecb4>\u001b[0m in \u001b[0;36m<module>\u001b[1;34m\u001b[0m\n\u001b[1;32m----> 1\u001b[1;33m \u001b[0maccuracy\u001b[0m \u001b[1;33m=\u001b[0m \u001b[0mscore\u001b[0m\u001b[1;33m(\u001b[0m\u001b[0my_test\u001b[0m\u001b[1;33m,\u001b[0m \u001b[0mpredictions\u001b[0m\u001b[1;33m)\u001b[0m\u001b[1;33m\u001b[0m\u001b[1;33m\u001b[0m\u001b[0m\n\u001b[0m\u001b[0;32m      2\u001b[0m \u001b[0mprint\u001b[0m\u001b[1;33m(\u001b[0m\u001b[1;34m\"Accuracy: %.2f%%\"\u001b[0m \u001b[1;33m%\u001b[0m \u001b[1;33m(\u001b[0m\u001b[0maccuracy\u001b[0m \u001b[1;33m*\u001b[0m \u001b[1;36m100.0\u001b[0m\u001b[1;33m)\u001b[0m\u001b[1;33m)\u001b[0m\u001b[1;33m\u001b[0m\u001b[1;33m\u001b[0m\u001b[0m\n",
      "\u001b[1;31mNameError\u001b[0m: name 'score' is not defined"
     ]
    }
   ],
   "source": [
    "accuracy = score(y_test, predictions)\n",
    "print(\"Accuracy: %.2f%%\" % (accuracy * 100.0))"
   ]
  },
  {
   "cell_type": "code",
   "execution_count": 75,
   "metadata": {},
   "outputs": [],
   "source": [
    "from sklearn.metrics import confusion_matrix"
   ]
  },
  {
   "cell_type": "code",
   "execution_count": 80,
   "metadata": {},
   "outputs": [
    {
     "data": {
      "text/plain": [
       "array([[12953,  8240],\n",
       "       [ 1599,  9074]], dtype=int64)"
      ]
     },
     "execution_count": 80,
     "metadata": {},
     "output_type": "execute_result"
    }
   ],
   "source": [
    "confusion_matrix(y_test, predictions)"
   ]
  },
  {
   "cell_type": "markdown",
   "metadata": {},
   "source": [
    "#### Gráfica de importancia de las variables ¿¿??"
   ]
  },
  {
   "cell_type": "code",
   "execution_count": 83,
   "metadata": {},
   "outputs": [],
   "source": [
    "excluded_features = ['cardio']"
   ]
  },
  {
   "cell_type": "code",
   "execution_count": 84,
   "metadata": {},
   "outputs": [
    {
     "name": "stdout",
     "output_type": "stream",
     "text": [
      "['age', 'bmi', 'gender', 'gluc', 'heart_disease', 'hypertension', 'smoke']\n"
     ]
    }
   ],
   "source": [
    "train_features = [_f for _f in people_data.columns if _f not in excluded_features]\n",
    "print(train_features)"
   ]
  },
  {
   "cell_type": "code",
   "execution_count": 87,
   "metadata": {},
   "outputs": [],
   "source": [
    "import pandas as pd\n",
    "import numpy as np\n",
    "import matplotlib.pyplot as plt\n",
    "import seaborn as sns\n",
    "from sklearn.metrics import mean_squared_error\n",
    "import gc\n",
    "import time\n",
    "from pandas.core.common import SettingWithCopyWarning\n",
    "import warnings\n",
    "import lightgbm as lgb\n",
    "from sklearn.model_selection import GroupKFold\n"
   ]
  },
  {
   "cell_type": "code",
   "execution_count": 90,
   "metadata": {},
   "outputs": [],
   "source": [
    "imp_df = pd.DataFrame()\n",
    "imp_df['feature'] = train_features\n",
    "imp_df['gain'] = model.feature_importance(importance_type='gain')"
   ]
  },
  {
   "cell_type": "code",
   "execution_count": null,
   "metadata": {},
   "outputs": [],
   "source": []
  },
  {
   "cell_type": "code",
   "execution_count": 94,
   "metadata": {},
   "outputs": [
    {
     "ename": "AttributeError",
     "evalue": "module 'lightgbm' has no attribute 'feature_importances_'",
     "output_type": "error",
     "traceback": [
      "\u001b[1;31m---------------------------------------------------------------------------\u001b[0m",
      "\u001b[1;31mAttributeError\u001b[0m                            Traceback (most recent call last)",
      "\u001b[1;32m<ipython-input-94-66fc80de8134>\u001b[0m in \u001b[0;36m<module>\u001b[1;34m\u001b[0m\n\u001b[0;32m      1\u001b[0m \u001b[1;33m\u001b[0m\u001b[0m\n\u001b[1;32m----> 2\u001b[1;33m \u001b[0mimportances\u001b[0m \u001b[1;33m=\u001b[0m \u001b[0mlgb\u001b[0m\u001b[1;33m.\u001b[0m\u001b[0mfeature_importances_\u001b[0m\u001b[1;33m\u001b[0m\u001b[1;33m\u001b[0m\u001b[0m\n\u001b[0m\u001b[0;32m      3\u001b[0m \u001b[0mindices\u001b[0m \u001b[1;33m=\u001b[0m \u001b[0mnp\u001b[0m\u001b[1;33m.\u001b[0m\u001b[0margsort\u001b[0m\u001b[1;33m(\u001b[0m\u001b[0mimportances\u001b[0m\u001b[1;33m)\u001b[0m\u001b[1;33m\u001b[0m\u001b[1;33m\u001b[0m\u001b[0m\n\u001b[0;32m      4\u001b[0m \u001b[1;33m\u001b[0m\u001b[0m\n\u001b[0;32m      5\u001b[0m \u001b[0mplt\u001b[0m\u001b[1;33m.\u001b[0m\u001b[0mtitle\u001b[0m\u001b[1;33m(\u001b[0m\u001b[1;34m'Feature Importances'\u001b[0m\u001b[1;33m)\u001b[0m\u001b[1;33m\u001b[0m\u001b[1;33m\u001b[0m\u001b[0m\n",
      "\u001b[1;31mAttributeError\u001b[0m: module 'lightgbm' has no attribute 'feature_importances_'"
     ]
    }
   ],
   "source": [
    "\n",
    "importances = lgb.feature_importances_\n",
    "indices = np.argsort(importances)\n",
    "\n",
    "plt.title('Feature Importances')\n",
    "plt.barh(range(len(indices)), importances[indices], color='b', align='center')\n",
    "plt.yticks(range(len(indices)), [features[i] for i in indices])\n",
    "plt.xlabel('Relative Importance')\n",
    "plt.show()"
   ]
  }
 ],
 "metadata": {
  "kernelspec": {
   "display_name": "Python 3",
   "language": "python",
   "name": "python3"
  },
  "language_info": {
   "codemirror_mode": {
    "name": "ipython",
    "version": 3
   },
   "file_extension": ".py",
   "mimetype": "text/x-python",
   "name": "python",
   "nbconvert_exporter": "python",
   "pygments_lexer": "ipython3",
   "version": "3.7.3"
  }
 },
 "nbformat": 4,
 "nbformat_minor": 2
}
